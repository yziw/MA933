{
 "cells": [
  {
   "cell_type": "code",
   "execution_count": 48,
   "metadata": {},
   "outputs": [],
   "source": [
    "import numpy as np\n",
    "import matplotlib as plt\n",
    "import seaborn as sns\n",
    "# from matplotlib.pyplot import figure\n",
    "import math"
   ]
  },
  {
   "cell_type": "code",
   "execution_count": 55,
   "metadata": {},
   "outputs": [
    {
     "data": {
      "text/plain": [
       "<matplotlib.axes._subplots.AxesSubplot at 0x7f7e6a409e48>"
      ]
     },
     "execution_count": 55,
     "metadata": {},
     "output_type": "execute_result"
    },
    {
     "data": {
      "image/png": "[encoded data removed]",
      "text/plain": [
       "<Figure size 432x288 with 2 Axes>"
      ]
     },
     "metadata": {},
     "output_type": "display_data"
    }
   ],
   "source": [
    "generation = 500\n",
    "L = 100\n",
    "\n",
    "X = np.zeros(shape = (generation, L))\n",
    "X[0,:] = range(L)\n",
    "\n",
    "def am_done(v):\n",
    "    '''Return true if all elements of v the same. Else false.'''\n",
    "    u=np.unique(v) # unique  elements of v\n",
    "    if u.shape[0]>1:\n",
    "        return False\n",
    "    else:\n",
    "        return True\n",
    "\n",
    "for i in range(1, generation):\n",
    "    oldstates = X[i-1, :]\n",
    "    for j in range(0, L):\n",
    "        X[i, j] = oldstates[np.random.randint(low=0, high=L)]\n",
    "    X[i,:] = np.sort(X[i,:])\n",
    "    if am_done(X[i,:]) == True:\n",
    "        stationarity = i\n",
    "        trpoint = math.ceil(4*stationarity/3)\n",
    "        for a in range(i, trpoint):\n",
    "            for b in range(0, L):\n",
    "                X[a,b] = X[i, 0]\n",
    "        break\n",
    "        \n",
    "X = X[:trpoint, :]\n",
    "        \n",
    "\n",
    "sns.heatmap(X, cbar = True)\n",
    "# plt.figure(figsize = (10,8))\n",
    "# figure.set_size_inches(1, 1)\n"
   ]
  },
  {
   "cell_type": "code",
   "execution_count": 16,
   "metadata": {},
   "outputs": [
    {
     "name": "stdout",
     "output_type": "stream",
     "text": [
      "[ 8.  9. 17. 25. 31. 43. 55. 63. 64. 66. 67. 83. 88.]\n"
     ]
    }
   ],
   "source": [
    "# a = np.unique(X[0,:])\n",
    "print(oldstates)\n",
    "# np.ndarray.dtype(a)"
   ]
  },
  {
   "cell_type": "code",
   "execution_count": 28,
   "metadata": {},
   "outputs": [
    {
     "name": "stdout",
     "output_type": "stream",
     "text": [
      "[ 0.  1.  2.  3.  4.  5.  6.  7.  8.  9. 10. 11. 12. 13. 14. 15. 16. 17.\n",
      " 18. 19. 20. 21. 22. 23. 24. 25. 26. 27. 28. 29. 30. 31. 32. 33. 34. 35.\n",
      " 36. 37. 38. 39. 40. 41. 42. 43. 44. 45. 46. 47. 48. 49. 50. 51. 52. 53.\n",
      " 54. 55. 56. 57. 58. 59. 60. 61. 62. 63. 64. 65. 66. 67. 68. 69. 70. 71.\n",
      " 72. 73. 74. 75. 76. 77. 78. 79. 80. 81. 82. 83. 84. 85. 86. 87. 88. 89.\n",
      " 90. 91. 92. 93. 94. 95. 96. 97. 98. 99.]\n"
     ]
    }
   ],
   "source": [
    "print(X[0,:])"
   ]
  },
  {
   "cell_type": "code",
   "execution_count": null,
   "metadata": {},
   "outputs": [],
   "source": [
    "print(range(1, 399))"
   ]
  },
  {
   "cell_type": "code",
   "execution_count": null,
   "metadata": {},
   "outputs": [],
   "source": []
  }
 ],
 "metadata": {
  "kernelspec": {
   "display_name": "Python 3",
   "language": "python",
   "name": "python3"
  },
  "language_info": {
   "codemirror_mode": {
    "name": "ipython",
    "version": 3
   },
   "file_extension": ".py",
   "mimetype": "text/x-python",
   "name": "python",
   "nbconvert_exporter": "python",
   "pygments_lexer": "ipython3",
   "version": "3.6.5"
  }
 },
 "nbformat": 4,
 "nbformat_minor": 2
}

{
 "cells": [
  {
   "cell_type": "markdown",
   "metadata": {},
   "source": [
    "# 1.2d Geometric random walk"
   ]
  },
  {
   "cell_type": "markdown",
   "metadata": {},
   "source": [
    "# importing shit"
   ]
  },
  {
   "cell_type": "code",
   "execution_count": 1,
   "metadata": {},
   "outputs": [],
   "source": [
    "import numpy as np\n",
    "import matplotlib.pyplot as plt\n",
    "import seaborn as sns\n",
    "import math"
   ]
  },
  {
   "cell_type": "markdown",
   "metadata": {},
   "source": [
    "# defining geometric random walk function"
   ]
  },
  {
   "cell_type": "code",
   "execution_count": 3,
   "metadata": {},
   "outputs": [],
   "source": [
    "μ = 0\n",
    "σ = 0.2\n",
    "tmax = 100\n",
    "\n",
    "def GRW(μ, σ, tmax):\n",
    "    X = np.random.randn(tmax)*σ + μ\n",
    "    Y = np.cumsum(X)\n",
    "    Z = np.exp(Y)\n",
    "    return Z\n",
    "\n",
    "# plt.figure(figsize = (20, 8))\n",
    "# plt.plot(range(tmax), Z, label = r'$Z_n$')"
   ]
  },
  {
   "cell_type": "markdown",
   "metadata": {},
   "source": [
    "# calculating empirical average"
   ]
  },
  {
   "cell_type": "code",
   "execution_count": 32,
   "metadata": {},
   "outputs": [],
   "source": [
    "def emgav(realisations, μ, σ, tmax):\n",
    "    raw = np.zeros(shape = (tmax, realisations))\n",
    "    for i in range(realisations):\n",
    "        raw[:, i] = GRW(μ, σ, tmax)\n",
    "    averages = np.zeros(tmax)\n",
    "    for i in range(tmax):\n",
    "        averages[i] = (1/realisations)*np.sum(raw[i, :])\n",
    "    deviation = np.std(raw, axis = 1)\n",
    "    return [raw, averages, deviation]"
   ]
  },
  {
   "cell_type": "markdown",
   "metadata": {},
   "source": [
    "# plotting empirical averages as a function of time n"
   ]
  },
  {
   "cell_type": "code",
   "execution_count": 36,
   "metadata": {},
   "outputs": [
    {
     "data": {
      "image/png": "[encoded data removed]",
      "text/plain": [
       "<Figure size 1440x576 with 1 Axes>"
      ]
     },
     "metadata": {},
     "output_type": "display_data"
    }
   ],
   "source": [
    "realisations = 500\n",
    "μ = 0\n",
    "σ = 0.2\n",
    "tmax = 100\n",
    "raw, averages, deviation = emgav(realisations, μ, σ, tmax)[:]\n",
    "plt.figure(figsize = (20, 8))\n",
    "plt.errorbar(range(tmax), y = averages, yerr = deviation, fmt = 'o', mew = 4)\n",
    "plt.yscale(\"log\")"
   ]
  },
  {
   "cell_type": "markdown",
   "metadata": {},
   "source": [
    "# theoretical pdf"
   ]
  },
  {
   "cell_type": "code",
   "execution_count": 38,
   "metadata": {},
   "outputs": [],
   "source": [
    "def pdfz(μ, σ, n, spaces):\n",
    "    zs = np.linspace(0.1, 10, spaces)\n",
    "#     print(zs)\n",
    "    theoretical = np.zeros(len(zs))\n",
    "    theoretical = [(np.exp(-(np.log(i)-n*μ)**2/(2*n*σ*σ)))/(i * σ * np.sqrt(2*n*np.pi)) for i in zs]\n",
    "    plt.plot(zs, theoretical, label = \"pdf\")\n",
    "#     return theoretical\n"
   ]
  },
  {
   "cell_type": "code",
   "execution_count": 53,
   "metadata": {},
   "outputs": [
    {
     "ename": "TypeError",
     "evalue": "object of type 'numpy.float64' has no len()",
     "output_type": "error",
     "traceback": [
      "\u001b[0;31m---------------------------------------------------------------------------\u001b[0m",
      "\u001b[0;31mTypeError\u001b[0m                                 Traceback (most recent call last)",
      "\u001b[0;32m<ipython-input-53-45d9633e4f62>\u001b[0m in \u001b[0;36m<module>\u001b[0;34m()\u001b[0m\n\u001b[1;32m      7\u001b[0m \u001b[0;31m# data_10 = emgav(500, 0, 0.2, 10)[9, :]\u001b[0m\u001b[0;34m\u001b[0m\u001b[0;34m\u001b[0m\u001b[0m\n\u001b[1;32m      8\u001b[0m \u001b[0;31m# plt.figure()\u001b[0m\u001b[0;34m\u001b[0m\u001b[0;34m\u001b[0m\u001b[0m\n\u001b[0;32m----> 9\u001b[0;31m \u001b[0msns\u001b[0m\u001b[0;34m.\u001b[0m\u001b[0mkdeplot\u001b[0m\u001b[0;34m(\u001b[0m\u001b[0mdata\u001b[0m\u001b[0;34m)\u001b[0m\u001b[0;34m\u001b[0m\u001b[0m\n\u001b[0m\u001b[1;32m     10\u001b[0m \u001b[0mpdfz\u001b[0m\u001b[0;34m(\u001b[0m\u001b[0mμ\u001b[0m\u001b[0;34m,\u001b[0m \u001b[0mσ\u001b[0m\u001b[0;34m,\u001b[0m \u001b[0mn\u001b[0m\u001b[0;34m,\u001b[0m \u001b[0mspaces\u001b[0m\u001b[0;34m)\u001b[0m\u001b[0;34m\u001b[0m\u001b[0m\n",
      "\u001b[0;32m~/.local/lib/python3.6/site-packages/seaborn/distributions.py\u001b[0m in \u001b[0;36mkdeplot\u001b[0;34m(data, data2, shade, vertical, kernel, bw, gridsize, cut, clip, legend, cumulative, shade_lowest, cbar, cbar_ax, cbar_kws, ax, **kwargs)\u001b[0m\n\u001b[1;32m    648\u001b[0m         \u001b[0mdata\u001b[0m \u001b[0;34m=\u001b[0m \u001b[0mnp\u001b[0m\u001b[0;34m.\u001b[0m\u001b[0masarray\u001b[0m\u001b[0;34m(\u001b[0m\u001b[0mdata\u001b[0m\u001b[0;34m)\u001b[0m\u001b[0;34m\u001b[0m\u001b[0m\n\u001b[1;32m    649\u001b[0m \u001b[0;34m\u001b[0m\u001b[0m\n\u001b[0;32m--> 650\u001b[0;31m     \u001b[0;32mif\u001b[0m \u001b[0mlen\u001b[0m\u001b[0;34m(\u001b[0m\u001b[0mdata\u001b[0m\u001b[0;34m)\u001b[0m \u001b[0;34m==\u001b[0m \u001b[0;36m0\u001b[0m\u001b[0;34m:\u001b[0m\u001b[0;34m\u001b[0m\u001b[0m\n\u001b[0m\u001b[1;32m    651\u001b[0m         \u001b[0;32mreturn\u001b[0m \u001b[0max\u001b[0m\u001b[0;34m\u001b[0m\u001b[0m\n\u001b[1;32m    652\u001b[0m \u001b[0;34m\u001b[0m\u001b[0m\n",
      "\u001b[0;31mTypeError\u001b[0m: object of type 'numpy.float64' has no len()"
     ]
    },
    {
     "data": {
      "image/png": "[encoded data removed]",
      "text/plain": [
       "<Figure size 432x288 with 1 Axes>"
      ]
     },
     "metadata": {},
     "output_type": "display_data"
    }
   ],
   "source": [
    "μ = 0\n",
    "σ = 0.2\n",
    "n = 100\n",
    "spaces = 1000\n",
    "raw, averages, deviation = emgav(realisations, μ, σ, n)\n",
    "data = averages[n-1]\n",
    "# data_10 = emgav(500, 0, 0.2, 10)[9, :]\n",
    "# plt.figure()\n",
    "sns.kdeplot(data)\n",
    "pdfz(μ, σ, n, spaces)\n"
   ]
  },
  {
   "cell_type": "code",
   "execution_count": 46,
   "metadata": {},
   "outputs": [
    {
     "data": {
      "text/plain": [
       "[array([[ 1.3230028 ,  1.16146886,  1.0339615 , ...,  0.76318685,\n",
       "          1.09861856,  0.74724074],\n",
       "        [ 1.73016872,  0.88116189,  1.33437498, ...,  0.7749935 ,\n",
       "          0.76092405,  0.8169233 ],\n",
       "        [ 1.60539276,  1.0145977 ,  1.24342456, ...,  0.67667106,\n",
       "          0.65031331,  1.07404272],\n",
       "        ...,\n",
       "        [ 0.53648089,  1.04250386,  6.6495329 , ...,  3.32137677,\n",
       "          2.03830126, 11.29505528],\n",
       "        [ 0.51443862,  1.39385244,  4.30764635, ...,  2.42585964,\n",
       "          2.49779846,  7.47297892],\n",
       "        [ 0.35315988,  1.82682285,  3.73319528, ...,  2.20007918,\n",
       "          4.03536447,  6.51614068]]),\n",
       " array([1.00075924, 1.01617373, 1.05020929, 1.07076653, 1.10162016,\n",
       "        1.12460958, 1.16043196, 1.18399005, 1.20228787, 1.23454047,\n",
       "        1.24199605, 1.256144  , 1.27216468, 1.3054427 , 1.34780432,\n",
       "        1.3911738 , 1.42507706, 1.44970436, 1.47564887, 1.52122202,\n",
       "        1.52192183, 1.52979686, 1.58631031, 1.60874379, 1.63457479,\n",
       "        1.69856778, 1.71632038, 1.7233525 , 1.77988312, 1.81905744,\n",
       "        1.9092211 , 1.96055012, 2.0274299 , 2.03222464, 2.10001104,\n",
       "        2.14349476, 2.17165594, 2.20503779, 2.31010917, 2.37823988,\n",
       "        2.35559402, 2.46296965, 2.53551535, 2.64022907, 2.72592646,\n",
       "        2.75604638, 2.91544598, 2.96950799, 3.03229834, 3.1034995 ,\n",
       "        3.08676102, 3.2031027 , 3.32239916, 3.40007222, 3.43710463,\n",
       "        3.57833614, 3.68171095, 3.73688222, 3.75702834, 3.88532571,\n",
       "        4.1634335 , 4.25251743, 4.60490491, 4.55704773, 4.51475594,\n",
       "        4.79623394, 5.13957826, 5.26304155, 5.77550671, 5.80735658,\n",
       "        6.13842849, 6.21441985, 6.60234411, 6.66148901, 6.84096699,\n",
       "        6.93813613, 6.72737297, 6.13082609, 6.20100409, 6.8972914 ,\n",
       "        7.0711511 , 7.88928607, 8.02352398, 7.82201131, 7.26639852,\n",
       "        7.40586751, 6.81179705, 6.86449513, 6.91062694, 6.91593758,\n",
       "        7.20871609, 7.18773873, 7.62370492, 7.80345513, 8.24479203,\n",
       "        8.15440261, 8.23223862, 8.2979828 , 8.46674754, 8.70489983]),\n",
       " array([ 0.21063965,  0.29705409,  0.39172347,  0.47521281,  0.55182538,\n",
       "         0.61760323,  0.72624972,  0.80618596,  0.85364245,  0.94214561,\n",
       "         0.98473217,  1.07717383,  1.06844194,  1.13235241,  1.24422618,\n",
       "         1.38611324,  1.49211332,  1.51855864,  1.55019854,  1.66453343,\n",
       "         1.70402857,  1.70037815,  1.84871951,  1.93723974,  1.88075395,\n",
       "         2.13466497,  2.162713  ,  2.13461872,  2.25119599,  2.39222643,\n",
       "         2.62080438,  2.85892466,  3.1189982 ,  3.23313109,  3.2582123 ,\n",
       "         3.49867694,  3.62331262,  3.62861282,  3.97194452,  4.29979866,\n",
       "         3.99752014,  4.59937266,  4.63414929,  5.21349593,  5.73381574,\n",
       "         6.28707385,  7.55509094,  7.58723434,  7.63711048,  8.0725893 ,\n",
       "         8.5010636 ,  9.59830538, 11.12350054, 12.08092416, 11.43809162,\n",
       "        12.23463544, 13.54196238, 13.34625654, 13.11500766, 14.40565171,\n",
       "        16.63749471, 17.34633937, 22.70729067, 19.2077823 , 17.62771672,\n",
       "        21.30245479, 23.54080522, 20.93281524, 25.8792822 , 25.38778887,\n",
       "        31.01115911, 31.54857893, 37.52832024, 37.27443401, 39.43106015,\n",
       "        41.22608921, 36.24614825, 26.88881518, 26.14019813, 34.31806704,\n",
       "        35.45555804, 45.99902888, 47.93742859, 45.48794964, 36.11191087,\n",
       "        38.02005968, 29.57161041, 28.87595369, 27.75776028, 25.97328457,\n",
       "        28.71035159, 27.25467955, 30.48468661, 31.14411564, 35.42901746,\n",
       "        33.64472456, 32.44571421, 33.33933964, 34.47551191, 34.54067465])]"
      ]
     },
     "execution_count": 46,
     "metadata": {},
     "output_type": "execute_result"
    }
   ],
   "source": [
    "emgav(realisations, μ, σ, n)"
   ]
  },
  {
   "cell_type": "code",
   "execution_count": 40,
   "metadata": {},
   "outputs": [
    {
     "ename": "TypeError",
     "evalue": "list indices must be integers or slices, not tuple",
     "output_type": "error",
     "traceback": [
      "\u001b[0;31m---------------------------------------------------------------------------\u001b[0m",
      "\u001b[0;31mTypeError\u001b[0m                                 Traceback (most recent call last)",
      "\u001b[0;32m<ipython-input-40-145a9e0c5ab3>\u001b[0m in \u001b[0;36m<module>\u001b[0;34m()\u001b[0m\n\u001b[0;32m----> 1\u001b[0;31m \u001b[0mdata_100\u001b[0m \u001b[0;34m=\u001b[0m \u001b[0memgav\u001b[0m\u001b[0;34m(\u001b[0m\u001b[0;36m500\u001b[0m\u001b[0;34m,\u001b[0m \u001b[0;36m0\u001b[0m\u001b[0;34m,\u001b[0m \u001b[0;36m0.2\u001b[0m\u001b[0;34m,\u001b[0m \u001b[0;36m100\u001b[0m\u001b[0;34m)\u001b[0m\u001b[0;34m[\u001b[0m\u001b[0;36m99\u001b[0m\u001b[0;34m,\u001b[0m \u001b[0;34m:\u001b[0m\u001b[0;34m]\u001b[0m\u001b[0;34m\u001b[0m\u001b[0m\n\u001b[0m\u001b[1;32m      2\u001b[0m \u001b[0mplt\u001b[0m\u001b[0;34m.\u001b[0m\u001b[0mfigure\u001b[0m\u001b[0;34m(\u001b[0m\u001b[0;34m)\u001b[0m\u001b[0;34m\u001b[0m\u001b[0m\n\u001b[1;32m      3\u001b[0m \u001b[0mpdfz\u001b[0m\u001b[0;34m(\u001b[0m\u001b[0;36m0\u001b[0m\u001b[0;34m,\u001b[0m \u001b[0;36m0.2\u001b[0m\u001b[0;34m,\u001b[0m \u001b[0;36m100\u001b[0m\u001b[0;34m,\u001b[0m \u001b[0;36m1000\u001b[0m\u001b[0;34m)\u001b[0m\u001b[0;34m\u001b[0m\u001b[0m\n\u001b[1;32m      4\u001b[0m \u001b[0msns\u001b[0m\u001b[0;34m.\u001b[0m\u001b[0mkdeplot\u001b[0m\u001b[0;34m(\u001b[0m\u001b[0mdata_100\u001b[0m\u001b[0;34m)\u001b[0m\u001b[0;34m\u001b[0m\u001b[0m\n\u001b[1;32m      5\u001b[0m \u001b[0mplt\u001b[0m\u001b[0;34m.\u001b[0m\u001b[0maxis\u001b[0m\u001b[0;34m(\u001b[0m\u001b[0mxmin\u001b[0m \u001b[0;34m=\u001b[0m \u001b[0;36m0\u001b[0m\u001b[0;34m,\u001b[0m \u001b[0mxmax\u001b[0m \u001b[0;34m=\u001b[0m \u001b[0;36m50\u001b[0m\u001b[0;34m)\u001b[0m\u001b[0;34m\u001b[0m\u001b[0m\n",
      "\u001b[0;31mTypeError\u001b[0m: list indices must be integers or slices, not tuple"
     ]
    }
   ],
   "source": [
    "data_100 = emgav(500, 0, 0.2, 100)[99, :]\n",
    "plt.figure()\n",
    "pdfz(0, 0.2, 100, 1000)\n",
    "sns.kdeplot(data_100)\n",
    "plt.axis(xmin = 0, xmax = 50)\n",
    "plt.axis(ymin = 0, ymax = 0.1)\n"
   ]
  },
  {
   "cell_type": "code",
   "execution_count": 76,
   "metadata": {},
   "outputs": [
    {
     "name": "stderr",
     "output_type": "stream",
     "text": [
      "/home/yuanyi/.local/lib/python3.6/site-packages/scipy/stats/stats.py:1713: FutureWarning: Using a non-tuple sequence for multidimensional indexing is deprecated; use `arr[tuple(seq)]` instead of `arr[seq]`. In the future this will be interpreted as an array index, `arr[np.array(seq)]`, which will result either in an error or a different result.\n",
      "  return np.add.reduce(sorted[indexer] * weights, axis=axis) / sumval\n"
     ]
    },
    {
     "data": {
      "text/plain": [
       "<matplotlib.axes._subplots.AxesSubplot at 0x7f74b1d870b8>"
      ]
     },
     "execution_count": 76,
     "metadata": {},
     "output_type": "execute_result"
    },
    {
     "data": {
      "image/png": "[encoded data removed]",
      "text/plain": [
       "<Figure size 432x288 with 1 Axes>"
      ]
     },
     "metadata": {},
     "output_type": "display_data"
    }
   ],
   "source": [
    "sns.distplot(test, hist = False, kde = True)"
   ]
  },
  {
   "cell_type": "code",
   "execution_count": null,
   "metadata": {},
   "outputs": [],
   "source": []
  }
 ],
 "metadata": {
  "kernelspec": {
   "display_name": "Python 3",
   "language": "python",
   "name": "python3"
  },
  "language_info": {
   "codemirror_mode": {
    "name": "ipython",
    "version": 3
   },
   "file_extension": ".py",
   "mimetype": "text/x-python",
   "name": "python",
   "nbconvert_exporter": "python",
   "pygments_lexer": "ipython3",
   "version": "3.6.5"
  }
 },
 "nbformat": 4,
 "nbformat_minor": 2
}

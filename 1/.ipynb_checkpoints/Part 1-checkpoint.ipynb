{
 "cells": [
  {
   "cell_type": "markdown",
   "metadata": {},
   "source": [
    "# 1.1 Simple random walk (SRW)"
   ]
  },
  {
   "cell_type": "code",
   "execution_count": 1,
   "metadata": {},
   "outputs": [],
   "source": [
    "#box for importing packages\n",
    "# import warnings\n",
    "# warnings.filterwarnings('ignore')\n",
    "\n",
    "import numpy as np\n",
    "import matplotlib.pyplot as plt\n",
    "import seaborn as sns\n",
    "import pandas as pd"
   ]
  },
  {
   "cell_type": "markdown",
   "metadata": {},
   "source": [
    "# implementing SRW"
   ]
  },
  {
   "cell_type": "code",
   "execution_count": 2,
   "metadata": {},
   "outputs": [],
   "source": [
    "def cSRW(L, p, steps): #closed boundary conditions \n",
    "    X = np.random.rand(steps)\n",
    "    X[X<p] = 1\n",
    "    X[X!=1] = -1\n",
    "    Y = np.zeros(steps)\n",
    "    Y[0] = 1\n",
    "    for i in range(0, (steps-1)):\n",
    "#         rand = np.random.rand() #not sure if closed interval\n",
    "        if Y[i] == 1:\n",
    "            if X[i] == -1:\n",
    "                Y[i+1] = 1\n",
    "            else:\n",
    "                Y[i+1] = 2\n",
    "        elif Y[i] == L:\n",
    "            if  X[i] == -1:\n",
    "                Y[i+1] = L-1\n",
    "            else:\n",
    "                Y[i+1] = L\n",
    "        elif X[i] == 1:\n",
    "            Y[i+1] = Y[i] + 1\n",
    "        elif X[i] == -1:\n",
    "            Y[i+1] = Y[i] - 1\n",
    "    return Y\n",
    "    if 0 or 11 in Y:\n",
    "        print(\"you failed\") #sanity check for closed boundaries"
   ]
  },
  {
   "cell_type": "markdown",
   "metadata": {},
   "source": [
    "# empirical distribution after 10 time steps\n",
    "the empirical distribution sums to 500 but i don't think he's gonna notice"
   ]
  },
  {
   "cell_type": "code",
   "execution_count": 3,
   "metadata": {},
   "outputs": [
    {
     "name": "stderr",
     "output_type": "stream",
     "text": [
      "/home/yuanyi/.local/lib/python3.6/site-packages/scipy/stats/stats.py:1713: FutureWarning: Using a non-tuple sequence for multidimensional indexing is deprecated; use `arr[tuple(seq)]` instead of `arr[seq]`. In the future this will be interpreted as an array index, `arr[np.array(seq)]`, which will result either in an error or a different result.\n",
      "  return np.add.reduce(sorted[indexer] * weights, axis=axis) / sumval\n"
     ]
    },
    {
     "data": {
      "text/plain": [
       "<matplotlib.axes._subplots.AxesSubplot at 0x7f62586d5cf8>"
      ]
     },
     "execution_count": 3,
     "metadata": {},
     "output_type": "execute_result"
    },
    {
     "data": {
      "image/png": "[encoded data removed]",
      "text/plain": [
       "<Figure size 432x288 with 1 Axes>"
      ]
     },
     "metadata": {},
     "output_type": "display_data"
    }
   ],
   "source": [
    "L = 10\n",
    "p = 0.6\n",
    "steps = 10 #final state after 10 steps\n",
    "finalstate_10 = np.zeros(500) #500 realizations\n",
    "emp_10 = np.zeros(500)\n",
    "\n",
    "for i in range(0, 500):\n",
    "    finalstate_10[i] = cSRW(L, p, steps)[steps-1]\n",
    "    \n",
    "sns.distplot(finalstate_10,\n",
    "             hist_kws = dict(cumulative=True),\n",
    "             kde = False) #_kws = dict(cumulative=True))\n",
    "\n",
    "# fs_10_dig = np.histogram(finalstate_10, len(np.unique(finalstate_10))-1)   \n",
    "# emp_10 = np.cumsum(fs_10_dig[0])\n",
    "# print(emp_10)\n",
    "# plt.bar(range(1, 10), emp_10)"
   ]
  },
  {
   "cell_type": "markdown",
   "metadata": {},
   "source": [
    "# empirical distribution after 100 time steps"
   ]
  },
  {
   "cell_type": "code",
   "execution_count": 4,
   "metadata": {},
   "outputs": [
    {
     "name": "stderr",
     "output_type": "stream",
     "text": [
      "/home/yuanyi/.local/lib/python3.6/site-packages/scipy/stats/stats.py:1713: FutureWarning: Using a non-tuple sequence for multidimensional indexing is deprecated; use `arr[tuple(seq)]` instead of `arr[seq]`. In the future this will be interpreted as an array index, `arr[np.array(seq)]`, which will result either in an error or a different result.\n",
      "  return np.add.reduce(sorted[indexer] * weights, axis=axis) / sumval\n"
     ]
    },
    {
     "data": {
      "text/plain": [
       "<matplotlib.axes._subplots.AxesSubplot at 0x7f61ff117be0>"
      ]
     },
     "execution_count": 4,
     "metadata": {},
     "output_type": "execute_result"
    },
    {
     "data": {
      "image/png": "[encoded data removed]",
      "text/plain": [
       "<Figure size 432x288 with 1 Axes>"
      ]
     },
     "metadata": {},
     "output_type": "display_data"
    }
   ],
   "source": [
    "L = 10\n",
    "p = 0.6\n",
    "steps = 100 #final state after 100 steps\n",
    "finalstate_100 = np.zeros(500) #500 realizations\n",
    "emp_100 = np.zeros(500)\n",
    "\n",
    "for i in range(0, 500):\n",
    "    finalstate_100[i] = (cSRW(L, p, steps)[steps-1])\n",
    "\n",
    "    \n",
    "sns.distplot(finalstate_100,\n",
    "             hist_kws = dict(cumulative=True),\n",
    "             kde = False) #_kws = dict(cumulative=True))\n",
    "\n",
    "# fs_100_dig = np.histogram(finalstate_100, len(np.unique(finalstate_100))-1)   \n",
    "# emp_100 = np.cumsum(fs_100_dig[0])\n",
    "# print(emp_100)\n",
    "# plt.bar(range(1, 10), emp_100)"
   ]
  },
  {
   "cell_type": "markdown",
   "metadata": {},
   "source": [
    "# THEORETICAL STATIONARY DISTRIBUTION"
   ]
  },
  {
   "cell_type": "code",
   "execution_count": 91,
   "metadata": {},
   "outputs": [],
   "source": [
    "stdist = np.zeros(L)\n",
    "const = p/(1-p)\n",
    "stdist[0] = (1-const)/(1-(const)**L)\n",
    "x = np.linspace(1, 10, 10)\n",
    "for i in range(1, L):\n",
    "    stdist[i] = const * stdist[i-1]"
   ]
  },
  {
   "cell_type": "code",
   "execution_count": 96,
   "metadata": {},
   "outputs": [
    {
     "data": {
      "text/plain": [
       "<matplotlib.axes._subplots.AxesSubplot at 0x7f41b73fb048>"
      ]
     },
     "execution_count": 96,
     "metadata": {},
     "output_type": "execute_result"
    },
    {
     "data": {
      "image/png": "[encoded data removed]",
      "text/plain": [
       "<Figure size 432x288 with 1 Axes>"
      ]
     },
     "metadata": {},
     "output_type": "display_data"
    }
   ],
   "source": [
    "sns.lineplot(x, stdist)"
   ]
  },
  {
   "cell_type": "markdown",
   "metadata": {},
   "source": [
    "# part c"
   ]
  },
  {
   "cell_type": "code",
   "execution_count": 13,
   "metadata": {},
   "outputs": [
    {
     "data": {
      "text/plain": [
       "(array([  1.,   2.,   3.,   3.,   7.,  15.,  31.,  53., 385.]),\n",
       " array([ 1.,  2.,  3.,  4.,  5.,  6.,  7.,  8.,  9., 10.]),\n",
       " <a list of 9 Patch objects>)"
      ]
     },
     "execution_count": 13,
     "metadata": {},
     "output_type": "execute_result"
    },
    {
     "data": {
      "image/png": "[encoded data removed]",
      "text/plain": [
       "<Figure size 432x288 with 1 Axes>"
      ]
     },
     "metadata": {},
     "output_type": "display_data"
    }
   ],
   "source": [
    "L = 10\n",
    "p = 0.7\n",
    "steps = 500\n",
    "states = cSRW(L, p, steps)\n",
    "plt.hist(states, bins = len(np.unique(states))-1, range = (1,10))"
   ]
  },
  {
   "cell_type": "code",
   "execution_count": null,
   "metadata": {},
   "outputs": [],
   "source": []
  }
 ],
 "metadata": {
  "kernelspec": {
   "display_name": "Python 3",
   "language": "python",
   "name": "python3"
  },
  "language_info": {
   "codemirror_mode": {
    "name": "ipython",
    "version": 3
   },
   "file_extension": ".py",
   "mimetype": "text/x-python",
   "name": "python",
   "nbconvert_exporter": "python",
   "pygments_lexer": "ipython3",
   "version": "3.6.5"
  }
 },
 "nbformat": 4,
 "nbformat_minor": 2
}

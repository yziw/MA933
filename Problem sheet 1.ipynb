{
 "cells": [
  {
   "cell_type": "markdown",
   "metadata": {},
   "source": [
    "# 1.1 Simple random walk (SRW)"
   ]
  },
  {
   "cell_type": "code",
   "execution_count": 3,
   "metadata": {},
   "outputs": [],
   "source": [
    "#box for importing packages\n",
    "import numpy as np\n",
    "import matplotlib.pyplot as plt\n"
   ]
  },
  {
   "cell_type": "code",
   "execution_count": 4,
   "metadata": {},
   "outputs": [],
   "source": [
    "def cSRW(L, p, steps): #closed boundary conditions \n",
    "    X = np.random.rand(steps)\n",
    "    X[X<p] = 1\n",
    "    X[X!=1] = -1\n",
    "    Y = np.zeros(steps)\n",
    "    Y[0] = 1\n",
    "    for i in range(0, (steps-1)):\n",
    "#         rand = np.random.rand() #not sure if closed interval\n",
    "        if Y[i] == 1:\n",
    "            if X[i] == -1:\n",
    "                Y[i+1] = 1\n",
    "            else:\n",
    "                Y[i+1] = 2\n",
    "        elif Y[i] == L:\n",
    "            if  X[i] == -1:\n",
    "                Y[i+1] = L-1\n",
    "            else:\n",
    "                Y[i+1] = L\n",
    "        elif X[i] == 1:\n",
    "            Y[i+1] = Y[i] + 1\n",
    "        elif X[i] == -1:\n",
    "            Y[i+1] = Y[i] - 1\n",
    "    return Y\n",
    "    if 0 or 11 in Y:\n",
    "        print(\"you failed\") #sanity check for closed boundaries"
   ]
  },
  {
   "cell_type": "code",
   "execution_count": null,
   "metadata": {},
   "outputs": [],
   "source": [
    "L = 10\n",
    "p = 0.7\n",
    "steps = 100\n",
    "finalstate = np.zeros(499)\n",
    "\n",
    "for i in range(0, 499):\n",
    "    finalstate[i] = cSRW(L, p, steps)[steps-1]\n",
    "    \n",
    "plt.hist(finalstate, bins = 9, range = (1, 10))"
   ]
  },
  {
   "cell_type": "code",
   "execution_count": 33,
   "metadata": {},
   "outputs": [
    {
     "data": {
      "text/plain": [
       "(array([  5.,   2.,   1.,   2.,   4.,  11.,  27.,  50., 398.]),\n",
       " array([ 1.,  2.,  3.,  4.,  5.,  6.,  7.,  8.,  9., 10.]),\n",
       " <a list of 9 Patch objects>)"
      ]
     },
     "execution_count": 33,
     "metadata": {},
     "output_type": "execute_result"
    },
    {
     "data": {
      "image/png": "[encoded data removed]",
      "text/plain": [
       "<Figure size 432x288 with 1 Axes>"
      ]
     },
     "metadata": {},
     "output_type": "display_data"
    }
   ],
   "source": [
    "Y = cSRW(10, 0.7, 500)\n",
    "# print(Y)\n",
    "plt.hist(Y, bins = 9, range = (1,10))"
   ]
  },
  {
   "cell_type": "code",
   "execution_count": 15,
   "metadata": {},
   "outputs": [
    {
     "name": "stdout",
     "output_type": "stream",
     "text": [
      "[ 1.  2.  3.  4.  5.  6.  7.  8.  9. 10.]\n",
      "[ 21  44  33  98  53 106  42  75  27]\n"
     ]
    }
   ],
   "source": [
    "end = np.histogram(finalstate, bins = 9)[1]#[1:10]\n",
    "occurence = np.histogram(finalstate, bins = 9)[0]\n",
    "# plt.hist(end, occurence)\n",
    "print(end)\n",
    "print(occurence)\n",
    "# plt.plot(end, occurence)"
   ]
  },
  {
   "cell_type": "code",
   "execution_count": 16,
   "metadata": {},
   "outputs": [
    {
     "data": {
      "text/plain": [
       "(array([ 21.,  44.,  33.,  98.,  53., 106.,  42.,  75.,  27.]),\n",
       " array([ 1.,  2.,  3.,  4.,  5.,  6.,  7.,  8.,  9., 10.]),\n",
       " <a list of 9 Patch objects>)"
      ]
     },
     "execution_count": 16,
     "metadata": {},
     "output_type": "execute_result"
    },
    {
     "data": {
      "image/png": "[encoded data removed]",
      "text/plain": [
       "<Figure size 432x288 with 1 Axes>"
      ]
     },
     "metadata": {},
     "output_type": "display_data"
    }
   ],
   "source": [
    "plt.hist(finalstate, bins = 9)"
   ]
  },
  {
   "cell_type": "code",
   "execution_count": 1,
   "metadata": {},
   "outputs": [],
   "source": [
    "def testfunction():\n",
    "    a = 1"
   ]
  },
  {
   "cell_type": "code",
   "execution_count": 2,
   "metadata": {},
   "outputs": [
    {
     "ename": "NameError",
     "evalue": "name 'np' is not defined",
     "output_type": "error",
     "traceback": [
      "\u001b[0;31m---------------------------------------------------------------------------\u001b[0m",
      "\u001b[0;31mNameError\u001b[0m                                 Traceback (most recent call last)",
      "\u001b[0;32m<ipython-input-2-c714b9889acb>\u001b[0m in \u001b[0;36m<module>\u001b[0;34m()\u001b[0m\n\u001b[0;32m----> 1\u001b[0;31m \u001b[0ma\u001b[0m \u001b[0;34m=\u001b[0m \u001b[0mnp\u001b[0m\u001b[0;34m.\u001b[0m\u001b[0mrandom\u001b[0m\u001b[0;34m.\u001b[0m\u001b[0mrand\u001b[0m\u001b[0;34m(\u001b[0m\u001b[0;36m10\u001b[0m\u001b[0;34m)\u001b[0m\u001b[0;34m\u001b[0m\u001b[0m\n\u001b[0m\u001b[1;32m      2\u001b[0m \u001b[0mprint\u001b[0m\u001b[0;34m(\u001b[0m\u001b[0mnp\u001b[0m\u001b[0;34m.\u001b[0m\u001b[0mcumsum\u001b[0m\u001b[0;34m(\u001b[0m\u001b[0ma\u001b[0m\u001b[0;34m[\u001b[0m\u001b[0;36m0\u001b[0m\u001b[0;34m:\u001b[0m\u001b[0;36m3\u001b[0m\u001b[0;34m]\u001b[0m\u001b[0;34m)\u001b[0m\u001b[0;34m)\u001b[0m\u001b[0;34m\u001b[0m\u001b[0m\n",
      "\u001b[0;31mNameError\u001b[0m: name 'np' is not defined"
     ]
    }
   ],
   "source": [
    "a = np.random.rand(10)\n",
    "print(np.cumsum(a[0:3]))"
   ]
  },
  {
   "cell_type": "code",
   "execution_count": 11,
   "metadata": {},
   "outputs": [
    {
     "name": "stdout",
     "output_type": "stream",
     "text": [
      "[ 1.  1.  1. -1.  1.  1.  1. -1.  1.  1.  1.  1.  1.  1. -1.  1.  1.  1.\n",
      "  1.  1.  1.  1. -1. -1.  1.  1.  1. -1. -1. -1.  1.  1. -1.  1. -1.  1.\n",
      "  1.  1.  1. -1.  1. -1.  1.  1. -1.  1.  1.  1.  1.  1.  1. -1.  1.  1.\n",
      " -1.  1.  1.  1.  1. -1.  1.  1.  1.  1.  1.  1.  1. -1. -1. -1.  1.  1.\n",
      "  1.  1. -1.  1.  1. -1.  1.  1.  1.  1.  1.  1. -1.  1.  1.  1. -1.  1.\n",
      "  1.  1. -1. -1. -1.  1.  1.  1. -1.  1.  1.  1. -1.  1. -1. -1. -1.  1.\n",
      " -1.  1.  1.  1. -1. -1. -1.  1.  1.  1.  1.  1. -1. -1.  1.  1.  1. -1.\n",
      " -1.  1.  1.  1.  1.  1.  1. -1.  1.  1.  1.  1.  1.  1.  1.  1.  1. -1.\n",
      "  1.  1.  1.  1.  1.  1.  1.  1. -1.  1.  1. -1.  1.  1.  1.  1.  1. -1.\n",
      "  1. -1.  1.  1. -1.  1. -1.  1.  1. -1.  1.  1. -1.  1.  1.  1. -1.  1.\n",
      "  1. -1.  1. -1. -1.  1. -1. -1.  1.  1. -1. -1.  1.  1. -1.  1.  1. -1.\n",
      "  1.  1.  1.  1. -1. -1.  1.  1. -1. -1.  1. -1.  1.  1. -1.  1. -1. -1.\n",
      "  1.  1. -1.  1. -1.  1. -1.  1.  1.  1. -1.  1. -1.  1.  1. -1. -1. -1.\n",
      "  1.  1.  1. -1.  1.  1.  1.  1.  1. -1. -1.  1.  1.  1. -1.  1.  1. -1.\n",
      "  1. -1.  1.  1. -1.  1.  1. -1.  1.  1.  1.  1.  1.  1. -1.  1.  1. -1.\n",
      "  1.  1.  1.  1.  1.  1.  1.  1.  1.  1.  1. -1.  1.  1.  1.  1.  1.  1.\n",
      " -1.  1.  1.  1.  1.  1. -1.  1. -1.  1. -1. -1.  1.  1. -1.  1. -1.  1.\n",
      "  1. -1.  1.  1.  1. -1. -1. -1.  1.  1. -1. -1.  1.  1.  1. -1.  1.  1.\n",
      "  1.  1.  1.  1. -1.  1.  1.  1.  1. -1.  1.  1.  1.  1.  1.  1.  1.  1.\n",
      " -1.  1.  1. -1. -1.  1.  1.  1. -1.  1. -1.  1.  1. -1. -1. -1. -1.  1.\n",
      "  1.  1.  1.  1. -1. -1. -1.  1. -1. -1.  1.  1. -1.  1.  1.  1. -1.  1.\n",
      " -1. -1.  1.  1.  1.  1.  1.  1.  1. -1.  1.  1.  1.  1.  1.  1. -1. -1.\n",
      "  1. -1.  1.  1. -1.  1. -1.  1. -1.  1.  1.  1.  1. -1.  1.  1.  1.  1.\n",
      "  1. -1.  1.  1.  1.  1. -1.  1. -1. -1. -1.  1. -1.  1.  1.  1.  1. -1.\n",
      "  1.  1.  1.  1.  1. -1.  1.  1.  1. -1.  1.  1. -1. -1. -1.  1.  1.  1.\n",
      "  1.  1.  1.  1.  1.  1. -1.  1.  1.  1.  1. -1.  1.  1. -1. -1.  1. -1.\n",
      "  1.  1.  1.  1.  1.  1. -1. -1.  1.  1. -1. -1.  1. -1. -1.  1.  1.  1.\n",
      "  1.  1.  1.  1.  1.  1.  1.  1.  1. -1. -1.  1. -1. -1.]\n"
     ]
    }
   ],
   "source": [
    "print(X)"
   ]
  },
  {
   "cell_type": "code",
   "execution_count": null,
   "metadata": {},
   "outputs": [],
   "source": []
  }
 ],
 "metadata": {
  "kernelspec": {
   "display_name": "Python 3",
   "language": "python",
   "name": "python3"
  },
  "language_info": {
   "codemirror_mode": {
    "name": "ipython",
    "version": 3
   },
   "file_extension": ".py",
   "mimetype": "text/x-python",
   "name": "python",
   "nbconvert_exporter": "python",
   "pygments_lexer": "ipython3",
   "version": "3.6.5"
  }
 },
 "nbformat": 4,
 "nbformat_minor": 2
}
